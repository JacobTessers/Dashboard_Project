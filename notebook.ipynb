{
 "cells": [
  {
   "cell_type": "markdown",
   "source": "# Dashboard Project",
   "metadata": {
    "cell_id": "f2eafb13be4f4de6829efe50a3150232",
    "tags": [],
    "is_collapsed": false,
    "deepnote_cell_type": "text-cell-h1"
   }
  },
  {
   "cell_type": "markdown",
   "source": "SELECT\n  date,\n  SUM(volume_sold_liters) AS Aged_Dark_Rum,\nFROM\n  `bigquery-public-data.iowa_liquor_sales.sales`\nWHERE\n  category_name = \"Aged Dark Rum\"\nGROUP BY\n  date\nORDER BY\n  date;\n\n\nA similar SQL query got the sum of Gold Rum sales grouped by year.",
   "metadata": {
    "cell_id": "d5598b2b704843b290788ad1c2262da6",
    "tags": [],
    "deepnote_cell_type": "markdown",
    "deepnote_cell_height": 111.1875
   }
  },
  {
   "cell_type": "code",
   "metadata": {
    "tags": [],
    "cell_id": "44da779a-f710-4b27-8b3e-dd1fca698943",
    "deepnote_to_be_reexecuted": false,
    "source_hash": "9b82ee11",
    "execution_start": 1651520110423,
    "execution_millis": 0,
    "deepnote_cell_type": "code",
    "deepnote_cell_height": 81
   },
   "source": "import pandas as pd",
   "execution_count": 1,
   "outputs": []
  },
  {
   "cell_type": "code",
   "source": "gold_rum = pd.read_csv('Gold_Rum.csv')",
   "metadata": {
    "cell_id": "afde6b97cd7d4afcab8e75bd37748254",
    "tags": [],
    "deepnote_to_be_reexecuted": false,
    "source_hash": "8ff30b4e",
    "execution_start": 1651520110423,
    "execution_millis": 1,
    "deepnote_cell_type": "code",
    "deepnote_cell_height": 81
   },
   "outputs": [],
   "execution_count": 2
  },
  {
   "cell_type": "code",
   "source": "dark_rum= pd.read_csv('Dark_Rum.csv')",
   "metadata": {
    "cell_id": "6cbc53fe4a35491e948a2a46018d1f5b",
    "tags": [],
    "deepnote_to_be_reexecuted": false,
    "source_hash": "8bbeae5c",
    "execution_start": 1651520110424,
    "execution_millis": 0,
    "deepnote_cell_type": "code",
    "deepnote_cell_height": 81
   },
   "outputs": [],
   "execution_count": 3
  },
  {
   "cell_type": "code",
   "source": "gold_rum",
   "metadata": {
    "cell_id": "57de753912c6442383f8b3d4505ad2e6",
    "tags": [],
    "deepnote_to_be_reexecuted": false,
    "source_hash": "aefe2262",
    "execution_start": 1651520110462,
    "execution_millis": 5,
    "deepnote_cell_type": "code",
    "deepnote_cell_height": 600
   },
   "outputs": [
    {
     "output_type": "execute_result",
     "execution_count": 4,
     "data": {
      "application/vnd.deepnote.dataframe.v3+json": {
       "column_count": 2,
       "row_count": 1461,
       "columns": [
        {
         "name": "date",
         "dtype": "object",
         "stats": {
          "unique_count": 1461,
          "nan_count": 0,
          "categories": [
           {
            "name": "2016-08-29",
            "count": 1
           },
           {
            "name": "2016-08-30",
            "count": 1
           },
           {
            "name": "1459 others",
            "count": 1459
           }
          ]
         }
        },
        {
         "name": "Gold_Rum",
         "dtype": "float64",
         "stats": {
          "unique_count": 1391,
          "nan_count": 0,
          "min": "0.05",
          "max": "1075.12",
          "histogram": [
           {
            "bin_start": 0.05,
            "bin_end": 107.55699999999999,
            "count": 28
           },
           {
            "bin_start": 107.55699999999999,
            "bin_end": 215.064,
            "count": 86
           },
           {
            "bin_start": 215.064,
            "bin_end": 322.57099999999997,
            "count": 254
           },
           {
            "bin_start": 322.57099999999997,
            "bin_end": 430.078,
            "count": 450
           },
           {
            "bin_start": 430.078,
            "bin_end": 537.5849999999999,
            "count": 365
           },
           {
            "bin_start": 537.5849999999999,
            "bin_end": 645.0919999999999,
            "count": 168
           },
           {
            "bin_start": 645.0919999999999,
            "bin_end": 752.5989999999999,
            "count": 62
           },
           {
            "bin_start": 752.5989999999999,
            "bin_end": 860.1059999999999,
            "count": 34
           },
           {
            "bin_start": 860.1059999999999,
            "bin_end": 967.6129999999998,
            "count": 9
           },
           {
            "bin_start": 967.6129999999998,
            "bin_end": 1075.12,
            "count": 5
           }
          ]
         }
        },
        {
         "name": "_deepnote_index_column",
         "dtype": "int64"
        }
       ],
       "rows": [
        {
         "date": "2016-08-29",
         "Gold_Rum": 127.62,
         "_deepnote_index_column": 0
        },
        {
         "date": "2016-08-30",
         "Gold_Rum": 105.12,
         "_deepnote_index_column": 1
        },
        {
         "date": "2016-08-31",
         "Gold_Rum": 159.99,
         "_deepnote_index_column": 2
        },
        {
         "date": "2016-09-01",
         "Gold_Rum": 450.5,
         "_deepnote_index_column": 3
        },
        {
         "date": "2016-09-02",
         "Gold_Rum": 216.25,
         "_deepnote_index_column": 4
        },
        {
         "date": "2016-09-03",
         "Gold_Rum": 342.5,
         "_deepnote_index_column": 5
        },
        {
         "date": "2016-09-06",
         "Gold_Rum": 498.5,
         "_deepnote_index_column": 6
        },
        {
         "date": "2016-09-07",
         "Gold_Rum": 503.48,
         "_deepnote_index_column": 7
        },
        {
         "date": "2016-09-08",
         "Gold_Rum": 440,
         "_deepnote_index_column": 8
        },
        {
         "date": "2016-09-09",
         "Gold_Rum": 285.75,
         "_deepnote_index_column": 9
        }
       ]
      },
      "text/plain": "            date  Gold_Rum\n0     2016-08-29    127.62\n1     2016-08-30    105.12\n2     2016-08-31    159.99\n3     2016-09-01    450.50\n4     2016-09-02    216.25\n...          ...       ...\n1456  2022-03-27      1.50\n1457  2022-03-28    210.62\n1458  2022-03-29    265.24\n1459  2022-03-30    401.73\n1460  2022-03-31    241.24\n\n[1461 rows x 2 columns]",
      "text/html": "<div>\n<style scoped>\n    .dataframe tbody tr th:only-of-type {\n        vertical-align: middle;\n    }\n\n    .dataframe tbody tr th {\n        vertical-align: top;\n    }\n\n    .dataframe thead th {\n        text-align: right;\n    }\n</style>\n<table border=\"1\" class=\"dataframe\">\n  <thead>\n    <tr style=\"text-align: right;\">\n      <th></th>\n      <th>date</th>\n      <th>Gold_Rum</th>\n    </tr>\n  </thead>\n  <tbody>\n    <tr>\n      <th>0</th>\n      <td>2016-08-29</td>\n      <td>127.62</td>\n    </tr>\n    <tr>\n      <th>1</th>\n      <td>2016-08-30</td>\n      <td>105.12</td>\n    </tr>\n    <tr>\n      <th>2</th>\n      <td>2016-08-31</td>\n      <td>159.99</td>\n    </tr>\n    <tr>\n      <th>3</th>\n      <td>2016-09-01</td>\n      <td>450.50</td>\n    </tr>\n    <tr>\n      <th>4</th>\n      <td>2016-09-02</td>\n      <td>216.25</td>\n    </tr>\n    <tr>\n      <th>...</th>\n      <td>...</td>\n      <td>...</td>\n    </tr>\n    <tr>\n      <th>1456</th>\n      <td>2022-03-27</td>\n      <td>1.50</td>\n    </tr>\n    <tr>\n      <th>1457</th>\n      <td>2022-03-28</td>\n      <td>210.62</td>\n    </tr>\n    <tr>\n      <th>1458</th>\n      <td>2022-03-29</td>\n      <td>265.24</td>\n    </tr>\n    <tr>\n      <th>1459</th>\n      <td>2022-03-30</td>\n      <td>401.73</td>\n    </tr>\n    <tr>\n      <th>1460</th>\n      <td>2022-03-31</td>\n      <td>241.24</td>\n    </tr>\n  </tbody>\n</table>\n<p>1461 rows × 2 columns</p>\n</div>"
     },
     "metadata": {}
    }
   ],
   "execution_count": 4
  },
  {
   "cell_type": "code",
   "source": "gold_rum['date'] = pd.to_datetime(gold_rum['date'], errors='coerce')",
   "metadata": {
    "cell_id": "69a9c482d627440382748cfcdb543356",
    "tags": [],
    "deepnote_to_be_reexecuted": false,
    "source_hash": "ffdc6a0f",
    "execution_start": 1651520110463,
    "execution_millis": 3,
    "deepnote_cell_type": "code",
    "deepnote_cell_height": 81,
    "deepnote_output_heights": [
     117.1875
    ]
   },
   "outputs": [],
   "execution_count": 5
  },
  {
   "cell_type": "code",
   "source": "gold_rum",
   "metadata": {
    "cell_id": "947448f97261416a89f7302d91278590",
    "tags": [],
    "deepnote_to_be_reexecuted": false,
    "source_hash": "aefe2262",
    "execution_start": 1651520110466,
    "execution_millis": 32,
    "deepnote_cell_type": "code",
    "deepnote_cell_height": 600
   },
   "outputs": [
    {
     "output_type": "execute_result",
     "execution_count": 6,
     "data": {
      "application/vnd.deepnote.dataframe.v3+json": {
       "column_count": 2,
       "row_count": 1461,
       "columns": [
        {
         "name": "date",
         "dtype": "datetime64[ns]",
         "stats": {
          "unique_count": 1461,
          "nan_count": 0,
          "min": "2016-08-29 00:00:00",
          "max": "2022-03-31 00:00:00",
          "histogram": [
           {
            "bin_start": 1472428800000000000,
            "bin_end": 1490054400000000000,
            "count": 143
           },
           {
            "bin_start": 1490054400000000000,
            "bin_end": 1507680000000000000,
            "count": 144
           },
           {
            "bin_start": 1507680000000000000,
            "bin_end": 1525305600000000000,
            "count": 142
           },
           {
            "bin_start": 1525305600000000000,
            "bin_end": 1542931200000000000,
            "count": 142
           },
           {
            "bin_start": 1542931200000000000,
            "bin_end": 1560556800000000000,
            "count": 143
           },
           {
            "bin_start": 1560556800000000000,
            "bin_end": 1578182400000000000,
            "count": 147
           },
           {
            "bin_start": 1578182400000000000,
            "bin_end": 1595808000000000000,
            "count": 144
           },
           {
            "bin_start": 1595808000000000000,
            "bin_end": 1613433600000000000,
            "count": 144
           },
           {
            "bin_start": 1613433600000000000,
            "bin_end": 1631059200000000000,
            "count": 156
           },
           {
            "bin_start": 1631059200000000000,
            "bin_end": 1648684800000000000,
            "count": 156
           }
          ]
         }
        },
        {
         "name": "Gold_Rum",
         "dtype": "float64",
         "stats": {
          "unique_count": 1391,
          "nan_count": 0,
          "min": "0.05",
          "max": "1075.12",
          "histogram": [
           {
            "bin_start": 0.05,
            "bin_end": 107.55699999999999,
            "count": 28
           },
           {
            "bin_start": 107.55699999999999,
            "bin_end": 215.064,
            "count": 86
           },
           {
            "bin_start": 215.064,
            "bin_end": 322.57099999999997,
            "count": 254
           },
           {
            "bin_start": 322.57099999999997,
            "bin_end": 430.078,
            "count": 450
           },
           {
            "bin_start": 430.078,
            "bin_end": 537.5849999999999,
            "count": 365
           },
           {
            "bin_start": 537.5849999999999,
            "bin_end": 645.0919999999999,
            "count": 168
           },
           {
            "bin_start": 645.0919999999999,
            "bin_end": 752.5989999999999,
            "count": 62
           },
           {
            "bin_start": 752.5989999999999,
            "bin_end": 860.1059999999999,
            "count": 34
           },
           {
            "bin_start": 860.1059999999999,
            "bin_end": 967.6129999999998,
            "count": 9
           },
           {
            "bin_start": 967.6129999999998,
            "bin_end": 1075.12,
            "count": 5
           }
          ]
         }
        },
        {
         "name": "_deepnote_index_column",
         "dtype": "int64"
        }
       ],
       "rows": [
        {
         "date": "2016-08-29T00:00:00.000000",
         "Gold_Rum": 127.62,
         "_deepnote_index_column": 0
        },
        {
         "date": "2016-08-30T00:00:00.000000",
         "Gold_Rum": 105.12,
         "_deepnote_index_column": 1
        },
        {
         "date": "2016-08-31T00:00:00.000000",
         "Gold_Rum": 159.99,
         "_deepnote_index_column": 2
        },
        {
         "date": "2016-09-01T00:00:00.000000",
         "Gold_Rum": 450.5,
         "_deepnote_index_column": 3
        },
        {
         "date": "2016-09-02T00:00:00.000000",
         "Gold_Rum": 216.25,
         "_deepnote_index_column": 4
        },
        {
         "date": "2016-09-03T00:00:00.000000",
         "Gold_Rum": 342.5,
         "_deepnote_index_column": 5
        },
        {
         "date": "2016-09-06T00:00:00.000000",
         "Gold_Rum": 498.5,
         "_deepnote_index_column": 6
        },
        {
         "date": "2016-09-07T00:00:00.000000",
         "Gold_Rum": 503.48,
         "_deepnote_index_column": 7
        },
        {
         "date": "2016-09-08T00:00:00.000000",
         "Gold_Rum": 440,
         "_deepnote_index_column": 8
        },
        {
         "date": "2016-09-09T00:00:00.000000",
         "Gold_Rum": 285.75,
         "_deepnote_index_column": 9
        }
       ]
      },
      "text/plain": "           date  Gold_Rum\n0    2016-08-29    127.62\n1    2016-08-30    105.12\n2    2016-08-31    159.99\n3    2016-09-01    450.50\n4    2016-09-02    216.25\n...         ...       ...\n1456 2022-03-27      1.50\n1457 2022-03-28    210.62\n1458 2022-03-29    265.24\n1459 2022-03-30    401.73\n1460 2022-03-31    241.24\n\n[1461 rows x 2 columns]",
      "text/html": "<div>\n<style scoped>\n    .dataframe tbody tr th:only-of-type {\n        vertical-align: middle;\n    }\n\n    .dataframe tbody tr th {\n        vertical-align: top;\n    }\n\n    .dataframe thead th {\n        text-align: right;\n    }\n</style>\n<table border=\"1\" class=\"dataframe\">\n  <thead>\n    <tr style=\"text-align: right;\">\n      <th></th>\n      <th>date</th>\n      <th>Gold_Rum</th>\n    </tr>\n  </thead>\n  <tbody>\n    <tr>\n      <th>0</th>\n      <td>2016-08-29</td>\n      <td>127.62</td>\n    </tr>\n    <tr>\n      <th>1</th>\n      <td>2016-08-30</td>\n      <td>105.12</td>\n    </tr>\n    <tr>\n      <th>2</th>\n      <td>2016-08-31</td>\n      <td>159.99</td>\n    </tr>\n    <tr>\n      <th>3</th>\n      <td>2016-09-01</td>\n      <td>450.50</td>\n    </tr>\n    <tr>\n      <th>4</th>\n      <td>2016-09-02</td>\n      <td>216.25</td>\n    </tr>\n    <tr>\n      <th>...</th>\n      <td>...</td>\n      <td>...</td>\n    </tr>\n    <tr>\n      <th>1456</th>\n      <td>2022-03-27</td>\n      <td>1.50</td>\n    </tr>\n    <tr>\n      <th>1457</th>\n      <td>2022-03-28</td>\n      <td>210.62</td>\n    </tr>\n    <tr>\n      <th>1458</th>\n      <td>2022-03-29</td>\n      <td>265.24</td>\n    </tr>\n    <tr>\n      <th>1459</th>\n      <td>2022-03-30</td>\n      <td>401.73</td>\n    </tr>\n    <tr>\n      <th>1460</th>\n      <td>2022-03-31</td>\n      <td>241.24</td>\n    </tr>\n  </tbody>\n</table>\n<p>1461 rows × 2 columns</p>\n</div>"
     },
     "metadata": {}
    }
   ],
   "execution_count": 6
  },
  {
   "cell_type": "code",
   "source": "gold_rum = gold_rum.assign(year = gold_rum['date'].dt.year).drop(columns='date')",
   "metadata": {
    "cell_id": "730c5355290b41489615ab020a584131",
    "tags": [],
    "deepnote_to_be_reexecuted": false,
    "source_hash": "fcf988ab",
    "execution_start": 1651520110498,
    "execution_millis": 9,
    "deepnote_cell_type": "code",
    "deepnote_cell_height": 81
   },
   "outputs": [],
   "execution_count": 7
  },
  {
   "cell_type": "code",
   "source": "gold_rum",
   "metadata": {
    "cell_id": "a36d5fd78c4f41f0aacf5137162eb262",
    "tags": [],
    "deepnote_to_be_reexecuted": false,
    "source_hash": "aefe2262",
    "execution_start": 1651520110509,
    "execution_millis": 18,
    "deepnote_cell_type": "code",
    "deepnote_cell_height": 600
   },
   "outputs": [
    {
     "output_type": "execute_result",
     "execution_count": 8,
     "data": {
      "application/vnd.deepnote.dataframe.v3+json": {
       "column_count": 2,
       "row_count": 1461,
       "columns": [
        {
         "name": "Gold_Rum",
         "dtype": "float64",
         "stats": {
          "unique_count": 1391,
          "nan_count": 0,
          "min": "0.05",
          "max": "1075.12",
          "histogram": [
           {
            "bin_start": 0.05,
            "bin_end": 107.55699999999999,
            "count": 28
           },
           {
            "bin_start": 107.55699999999999,
            "bin_end": 215.064,
            "count": 86
           },
           {
            "bin_start": 215.064,
            "bin_end": 322.57099999999997,
            "count": 254
           },
           {
            "bin_start": 322.57099999999997,
            "bin_end": 430.078,
            "count": 450
           },
           {
            "bin_start": 430.078,
            "bin_end": 537.5849999999999,
            "count": 365
           },
           {
            "bin_start": 537.5849999999999,
            "bin_end": 645.0919999999999,
            "count": 168
           },
           {
            "bin_start": 645.0919999999999,
            "bin_end": 752.5989999999999,
            "count": 62
           },
           {
            "bin_start": 752.5989999999999,
            "bin_end": 860.1059999999999,
            "count": 34
           },
           {
            "bin_start": 860.1059999999999,
            "bin_end": 967.6129999999998,
            "count": 9
           },
           {
            "bin_start": 967.6129999999998,
            "bin_end": 1075.12,
            "count": 5
           }
          ]
         }
        },
        {
         "name": "year",
         "dtype": "int64",
         "stats": {
          "unique_count": 7,
          "nan_count": 0,
          "min": "2016",
          "max": "2022",
          "histogram": [
           {
            "bin_start": 2016,
            "bin_end": 2016.6,
            "count": 88
           },
           {
            "bin_start": 2016.6,
            "bin_end": 2017.2,
            "count": 254
           },
           {
            "bin_start": 2017.2,
            "bin_end": 2017.8,
            "count": 0
           },
           {
            "bin_start": 2017.8,
            "bin_end": 2018.4,
            "count": 255
           },
           {
            "bin_start": 2018.4,
            "bin_end": 2019,
            "count": 0
           },
           {
            "bin_start": 2019,
            "bin_end": 2019.6,
            "count": 262
           },
           {
            "bin_start": 2019.6,
            "bin_end": 2020.2,
            "count": 259
           },
           {
            "bin_start": 2020.2,
            "bin_end": 2020.8,
            "count": 0
           },
           {
            "bin_start": 2020.8,
            "bin_end": 2021.4,
            "count": 273
           },
           {
            "bin_start": 2021.4,
            "bin_end": 2022,
            "count": 70
           }
          ]
         }
        },
        {
         "name": "_deepnote_index_column",
         "dtype": "int64"
        }
       ],
       "rows": [
        {
         "Gold_Rum": 127.62,
         "year": 2016,
         "_deepnote_index_column": 0
        },
        {
         "Gold_Rum": 105.12,
         "year": 2016,
         "_deepnote_index_column": 1
        },
        {
         "Gold_Rum": 159.99,
         "year": 2016,
         "_deepnote_index_column": 2
        },
        {
         "Gold_Rum": 450.5,
         "year": 2016,
         "_deepnote_index_column": 3
        },
        {
         "Gold_Rum": 216.25,
         "year": 2016,
         "_deepnote_index_column": 4
        },
        {
         "Gold_Rum": 342.5,
         "year": 2016,
         "_deepnote_index_column": 5
        },
        {
         "Gold_Rum": 498.5,
         "year": 2016,
         "_deepnote_index_column": 6
        },
        {
         "Gold_Rum": 503.48,
         "year": 2016,
         "_deepnote_index_column": 7
        },
        {
         "Gold_Rum": 440,
         "year": 2016,
         "_deepnote_index_column": 8
        },
        {
         "Gold_Rum": 285.75,
         "year": 2016,
         "_deepnote_index_column": 9
        }
       ]
      },
      "text/plain": "      Gold_Rum  year\n0       127.62  2016\n1       105.12  2016\n2       159.99  2016\n3       450.50  2016\n4       216.25  2016\n...        ...   ...\n1456      1.50  2022\n1457    210.62  2022\n1458    265.24  2022\n1459    401.73  2022\n1460    241.24  2022\n\n[1461 rows x 2 columns]",
      "text/html": "<div>\n<style scoped>\n    .dataframe tbody tr th:only-of-type {\n        vertical-align: middle;\n    }\n\n    .dataframe tbody tr th {\n        vertical-align: top;\n    }\n\n    .dataframe thead th {\n        text-align: right;\n    }\n</style>\n<table border=\"1\" class=\"dataframe\">\n  <thead>\n    <tr style=\"text-align: right;\">\n      <th></th>\n      <th>Gold_Rum</th>\n      <th>year</th>\n    </tr>\n  </thead>\n  <tbody>\n    <tr>\n      <th>0</th>\n      <td>127.62</td>\n      <td>2016</td>\n    </tr>\n    <tr>\n      <th>1</th>\n      <td>105.12</td>\n      <td>2016</td>\n    </tr>\n    <tr>\n      <th>2</th>\n      <td>159.99</td>\n      <td>2016</td>\n    </tr>\n    <tr>\n      <th>3</th>\n      <td>450.50</td>\n      <td>2016</td>\n    </tr>\n    <tr>\n      <th>4</th>\n      <td>216.25</td>\n      <td>2016</td>\n    </tr>\n    <tr>\n      <th>...</th>\n      <td>...</td>\n      <td>...</td>\n    </tr>\n    <tr>\n      <th>1456</th>\n      <td>1.50</td>\n      <td>2022</td>\n    </tr>\n    <tr>\n      <th>1457</th>\n      <td>210.62</td>\n      <td>2022</td>\n    </tr>\n    <tr>\n      <th>1458</th>\n      <td>265.24</td>\n      <td>2022</td>\n    </tr>\n    <tr>\n      <th>1459</th>\n      <td>401.73</td>\n      <td>2022</td>\n    </tr>\n    <tr>\n      <th>1460</th>\n      <td>241.24</td>\n      <td>2022</td>\n    </tr>\n  </tbody>\n</table>\n<p>1461 rows × 2 columns</p>\n</div>"
     },
     "metadata": {}
    }
   ],
   "execution_count": 8
  },
  {
   "cell_type": "code",
   "source": "gold_rum.info()",
   "metadata": {
    "cell_id": "5c8ad255519941a4ad76ae6edd015542",
    "tags": [],
    "deepnote_to_be_reexecuted": false,
    "source_hash": "49a99154",
    "execution_start": 1651520110538,
    "execution_millis": 6,
    "deepnote_cell_type": "code",
    "deepnote_cell_height": 272
   },
   "outputs": [
    {
     "name": "stdout",
     "text": "<class 'pandas.core.frame.DataFrame'>\nRangeIndex: 1461 entries, 0 to 1460\nData columns (total 2 columns):\n #   Column    Non-Null Count  Dtype  \n---  ------    --------------  -----  \n 0   Gold_Rum  1461 non-null   float64\n 1   year      1461 non-null   int64  \ndtypes: float64(1), int64(1)\nmemory usage: 23.0 KB\n",
     "output_type": "stream"
    }
   ],
   "execution_count": 9
  },
  {
   "cell_type": "code",
   "source": "gold_rum.columns = gold_rum.columns.str.replace('Gold_Rum', 'Gold_Rum_by_Liter')",
   "metadata": {
    "cell_id": "4cf0e6129d4d45709bd3181e7d686f73",
    "tags": [],
    "deepnote_to_be_reexecuted": false,
    "source_hash": "ca94e696",
    "execution_start": 1651520110548,
    "execution_millis": 4,
    "deepnote_cell_type": "code",
    "deepnote_cell_height": 81
   },
   "outputs": [],
   "execution_count": 10
  },
  {
   "cell_type": "code",
   "source": "gold_rum = gold_rum.groupby(gold_rum.year).sum()",
   "metadata": {
    "cell_id": "dba36aba76d94ce4a5a59a9c9ce18dcb",
    "tags": [],
    "deepnote_to_be_reexecuted": false,
    "source_hash": "f2e8341d",
    "execution_start": 1651520110558,
    "execution_millis": 4,
    "deepnote_cell_type": "code",
    "deepnote_cell_height": 81
   },
   "outputs": [],
   "execution_count": 11
  },
  {
   "cell_type": "code",
   "source": "gold_rum",
   "metadata": {
    "cell_id": "68e5d5712605453ca700853e02a5144a",
    "tags": [],
    "deepnote_to_be_reexecuted": false,
    "source_hash": "aefe2262",
    "execution_start": 1651520110574,
    "execution_millis": 6,
    "deepnote_cell_type": "code",
    "deepnote_cell_height": 477
   },
   "outputs": [
    {
     "output_type": "execute_result",
     "execution_count": 12,
     "data": {
      "application/vnd.deepnote.dataframe.v3+json": {
       "column_count": 1,
       "row_count": 7,
       "columns": [
        {
         "name": "Gold_Rum_by_Liter",
         "dtype": "float64",
         "stats": {
          "unique_count": 7,
          "nan_count": 0,
          "min": "20404.25",
          "max": "115316.60000000005",
          "histogram": [
           {
            "bin_start": 20404.25,
            "bin_end": 29895.485000000004,
            "count": 1
           },
           {
            "bin_start": 29895.485000000004,
            "bin_end": 39386.72000000001,
            "count": 0
           },
           {
            "bin_start": 39386.72000000001,
            "bin_end": 48877.955000000016,
            "count": 1
           },
           {
            "bin_start": 48877.955000000016,
            "bin_end": 58369.19000000002,
            "count": 0
           },
           {
            "bin_start": 58369.19000000002,
            "bin_end": 67860.42500000002,
            "count": 0
           },
           {
            "bin_start": 67860.42500000002,
            "bin_end": 77351.66000000003,
            "count": 0
           },
           {
            "bin_start": 77351.66000000003,
            "bin_end": 86842.89500000003,
            "count": 0
           },
           {
            "bin_start": 86842.89500000003,
            "bin_end": 96334.13000000003,
            "count": 0
           },
           {
            "bin_start": 96334.13000000003,
            "bin_end": 105825.36500000003,
            "count": 1
           },
           {
            "bin_start": 105825.36500000003,
            "bin_end": 115316.60000000005,
            "count": 4
           }
          ]
         }
        },
        {
         "name": "_deepnote_index_column",
         "dtype": "int64"
        }
       ],
       "rows": [
        {
         "Gold_Rum_by_Liter": 45043.51999999999,
         "_deepnote_index_column": 2016
        },
        {
         "Gold_Rum_by_Liter": 115316.60000000005,
         "_deepnote_index_column": 2017
        },
        {
         "Gold_Rum_by_Liter": 109159.16999999998,
         "_deepnote_index_column": 2018
        },
        {
         "Gold_Rum_by_Liter": 107731.52000000016,
         "_deepnote_index_column": 2019
        },
        {
         "Gold_Rum_by_Liter": 112782.86999999997,
         "_deepnote_index_column": 2020
        },
        {
         "Gold_Rum_by_Liter": 100701.62000000004,
         "_deepnote_index_column": 2021
        },
        {
         "Gold_Rum_by_Liter": 20404.25,
         "_deepnote_index_column": 2022
        }
       ]
      },
      "text/plain": "      Gold_Rum_by_Liter\nyear                   \n2016           45043.52\n2017          115316.60\n2018          109159.17\n2019          107731.52\n2020          112782.87\n2021          100701.62\n2022           20404.25",
      "text/html": "<div>\n<style scoped>\n    .dataframe tbody tr th:only-of-type {\n        vertical-align: middle;\n    }\n\n    .dataframe tbody tr th {\n        vertical-align: top;\n    }\n\n    .dataframe thead th {\n        text-align: right;\n    }\n</style>\n<table border=\"1\" class=\"dataframe\">\n  <thead>\n    <tr style=\"text-align: right;\">\n      <th></th>\n      <th>Gold_Rum_by_Liter</th>\n    </tr>\n    <tr>\n      <th>year</th>\n      <th></th>\n    </tr>\n  </thead>\n  <tbody>\n    <tr>\n      <th>2016</th>\n      <td>45043.52</td>\n    </tr>\n    <tr>\n      <th>2017</th>\n      <td>115316.60</td>\n    </tr>\n    <tr>\n      <th>2018</th>\n      <td>109159.17</td>\n    </tr>\n    <tr>\n      <th>2019</th>\n      <td>107731.52</td>\n    </tr>\n    <tr>\n      <th>2020</th>\n      <td>112782.87</td>\n    </tr>\n    <tr>\n      <th>2021</th>\n      <td>100701.62</td>\n    </tr>\n    <tr>\n      <th>2022</th>\n      <td>20404.25</td>\n    </tr>\n  </tbody>\n</table>\n</div>"
     },
     "metadata": {}
    }
   ],
   "execution_count": 12
  },
  {
   "cell_type": "code",
   "source": "dark_rum",
   "metadata": {
    "cell_id": "f18ca72db4d248de87e56f425a56ca17",
    "tags": [],
    "deepnote_to_be_reexecuted": false,
    "source_hash": "58a777cd",
    "execution_start": 1651520110616,
    "execution_millis": 3,
    "deepnote_table_state": {
     "pageSize": 10,
     "pageIndex": 0,
     "filters": [],
     "sortBy": []
    },
    "deepnote_table_loading": false,
    "deepnote_cell_type": "code",
    "deepnote_cell_height": 600
   },
   "outputs": [
    {
     "output_type": "execute_result",
     "execution_count": 13,
     "data": {
      "application/vnd.deepnote.dataframe.v3+json": {
       "column_count": 2,
       "row_count": 1457,
       "columns": [
        {
         "name": "date",
         "dtype": "object",
         "stats": {
          "unique_count": 1457,
          "nan_count": 0,
          "categories": [
           {
            "name": "2016-08-29",
            "count": 1
           },
           {
            "name": "2016-08-30",
            "count": 1
           },
           {
            "name": "1455 others",
            "count": 1455
           }
          ]
         }
        },
        {
         "name": "Aged_Dark_Rum",
         "dtype": "float64",
         "stats": {
          "unique_count": 782,
          "nan_count": 0,
          "min": "0.75",
          "max": "528.75",
          "histogram": [
           {
            "bin_start": 0.75,
            "bin_end": 53.55,
            "count": 133
           },
           {
            "bin_start": 53.55,
            "bin_end": 106.35,
            "count": 435
           },
           {
            "bin_start": 106.35,
            "bin_end": 159.14999999999998,
            "count": 469
           },
           {
            "bin_start": 159.14999999999998,
            "bin_end": 211.95,
            "count": 250
           },
           {
            "bin_start": 211.95,
            "bin_end": 264.75,
            "count": 100
           },
           {
            "bin_start": 264.75,
            "bin_end": 317.54999999999995,
            "count": 40
           },
           {
            "bin_start": 317.54999999999995,
            "bin_end": 370.34999999999997,
            "count": 20
           },
           {
            "bin_start": 370.34999999999997,
            "bin_end": 423.15,
            "count": 7
           },
           {
            "bin_start": 423.15,
            "bin_end": 475.95,
            "count": 1
           },
           {
            "bin_start": 475.95,
            "bin_end": 528.75,
            "count": 2
           }
          ]
         }
        },
        {
         "name": "_deepnote_index_column",
         "dtype": "int64"
        }
       ],
       "rows": [
        {
         "date": "2016-08-29",
         "Aged_Dark_Rum": 34.25,
         "_deepnote_index_column": 0
        },
        {
         "date": "2016-08-30",
         "Aged_Dark_Rum": 15.5,
         "_deepnote_index_column": 1
        },
        {
         "date": "2016-08-31",
         "Aged_Dark_Rum": 42.85,
         "_deepnote_index_column": 2
        },
        {
         "date": "2016-09-01",
         "Aged_Dark_Rum": 99.5,
         "_deepnote_index_column": 3
        },
        {
         "date": "2016-09-02",
         "Aged_Dark_Rum": 56.75,
         "_deepnote_index_column": 4
        },
        {
         "date": "2016-09-03",
         "Aged_Dark_Rum": 95.25,
         "_deepnote_index_column": 5
        },
        {
         "date": "2016-09-06",
         "Aged_Dark_Rum": 106.75,
         "_deepnote_index_column": 6
        },
        {
         "date": "2016-09-07",
         "Aged_Dark_Rum": 130.75,
         "_deepnote_index_column": 7
        },
        {
         "date": "2016-09-08",
         "Aged_Dark_Rum": 131.25,
         "_deepnote_index_column": 8
        },
        {
         "date": "2016-09-09",
         "Aged_Dark_Rum": 36.5,
         "_deepnote_index_column": 9
        }
       ]
      },
      "text/plain": "            date  Aged_Dark_Rum\n0     2016-08-29          34.25\n1     2016-08-30          15.50\n2     2016-08-31          42.85\n3     2016-09-01          99.50\n4     2016-09-02          56.75\n...          ...            ...\n1452  2022-03-25          97.75\n1453  2022-03-28         124.50\n1454  2022-03-29          78.00\n1455  2022-03-30         263.50\n1456  2022-03-31          59.75\n\n[1457 rows x 2 columns]",
      "text/html": "<div>\n<style scoped>\n    .dataframe tbody tr th:only-of-type {\n        vertical-align: middle;\n    }\n\n    .dataframe tbody tr th {\n        vertical-align: top;\n    }\n\n    .dataframe thead th {\n        text-align: right;\n    }\n</style>\n<table border=\"1\" class=\"dataframe\">\n  <thead>\n    <tr style=\"text-align: right;\">\n      <th></th>\n      <th>date</th>\n      <th>Aged_Dark_Rum</th>\n    </tr>\n  </thead>\n  <tbody>\n    <tr>\n      <th>0</th>\n      <td>2016-08-29</td>\n      <td>34.25</td>\n    </tr>\n    <tr>\n      <th>1</th>\n      <td>2016-08-30</td>\n      <td>15.50</td>\n    </tr>\n    <tr>\n      <th>2</th>\n      <td>2016-08-31</td>\n      <td>42.85</td>\n    </tr>\n    <tr>\n      <th>3</th>\n      <td>2016-09-01</td>\n      <td>99.50</td>\n    </tr>\n    <tr>\n      <th>4</th>\n      <td>2016-09-02</td>\n      <td>56.75</td>\n    </tr>\n    <tr>\n      <th>...</th>\n      <td>...</td>\n      <td>...</td>\n    </tr>\n    <tr>\n      <th>1452</th>\n      <td>2022-03-25</td>\n      <td>97.75</td>\n    </tr>\n    <tr>\n      <th>1453</th>\n      <td>2022-03-28</td>\n      <td>124.50</td>\n    </tr>\n    <tr>\n      <th>1454</th>\n      <td>2022-03-29</td>\n      <td>78.00</td>\n    </tr>\n    <tr>\n      <th>1455</th>\n      <td>2022-03-30</td>\n      <td>263.50</td>\n    </tr>\n    <tr>\n      <th>1456</th>\n      <td>2022-03-31</td>\n      <td>59.75</td>\n    </tr>\n  </tbody>\n</table>\n<p>1457 rows × 2 columns</p>\n</div>"
     },
     "metadata": {}
    }
   ],
   "execution_count": 13
  },
  {
   "cell_type": "code",
   "source": "dark_rum.info()",
   "metadata": {
    "cell_id": "f2b94187b75b41dcb410fb4aecdc1c4c",
    "tags": [],
    "deepnote_to_be_reexecuted": false,
    "source_hash": "7a417c71",
    "execution_start": 1651520110617,
    "execution_millis": 4,
    "deepnote_cell_type": "code",
    "deepnote_cell_height": 272
   },
   "outputs": [
    {
     "name": "stdout",
     "text": "<class 'pandas.core.frame.DataFrame'>\nRangeIndex: 1457 entries, 0 to 1456\nData columns (total 2 columns):\n #   Column         Non-Null Count  Dtype  \n---  ------         --------------  -----  \n 0   date           1457 non-null   object \n 1   Aged_Dark_Rum  1457 non-null   float64\ndtypes: float64(1), object(1)\nmemory usage: 22.9+ KB\n",
     "output_type": "stream"
    }
   ],
   "execution_count": 14
  },
  {
   "cell_type": "code",
   "source": "dark_rum['date'] = pd.to_datetime(dark_rum['date'], errors='coerce')",
   "metadata": {
    "cell_id": "7e4345d2deb246a69f7237886040eefa",
    "tags": [],
    "deepnote_to_be_reexecuted": false,
    "source_hash": "aae05a1a",
    "execution_start": 1651520110621,
    "execution_millis": 2,
    "deepnote_cell_type": "code",
    "deepnote_cell_height": 81
   },
   "outputs": [],
   "execution_count": 15
  },
  {
   "cell_type": "code",
   "source": "dark_rum",
   "metadata": {
    "cell_id": "9f3f9c45754e4f04bb4892865df1c32a",
    "tags": [],
    "deepnote_to_be_reexecuted": false,
    "source_hash": "58a777cd",
    "execution_start": 1651520110656,
    "execution_millis": 3,
    "deepnote_cell_type": "code",
    "deepnote_cell_height": 600
   },
   "outputs": [
    {
     "output_type": "execute_result",
     "execution_count": 16,
     "data": {
      "application/vnd.deepnote.dataframe.v3+json": {
       "column_count": 2,
       "row_count": 1457,
       "columns": [
        {
         "name": "date",
         "dtype": "datetime64[ns]",
         "stats": {
          "unique_count": 1457,
          "nan_count": 0,
          "min": "2016-08-29 00:00:00",
          "max": "2022-03-31 00:00:00",
          "histogram": [
           {
            "bin_start": 1472428800000000000,
            "bin_end": 1490054400000000000,
            "count": 143
           },
           {
            "bin_start": 1490054400000000000,
            "bin_end": 1507680000000000000,
            "count": 145
           },
           {
            "bin_start": 1507680000000000000,
            "bin_end": 1525305600000000000,
            "count": 142
           },
           {
            "bin_start": 1525305600000000000,
            "bin_end": 1542931200000000000,
            "count": 142
           },
           {
            "bin_start": 1542931200000000000,
            "bin_end": 1560556800000000000,
            "count": 142
           },
           {
            "bin_start": 1560556800000000000,
            "bin_end": 1578182400000000000,
            "count": 147
           },
           {
            "bin_start": 1578182400000000000,
            "bin_end": 1595808000000000000,
            "count": 144
           },
           {
            "bin_start": 1595808000000000000,
            "bin_end": 1613433600000000000,
            "count": 144
           },
           {
            "bin_start": 1613433600000000000,
            "bin_end": 1631059200000000000,
            "count": 150
           },
           {
            "bin_start": 1631059200000000000,
            "bin_end": 1648684800000000000,
            "count": 158
           }
          ]
         }
        },
        {
         "name": "Aged_Dark_Rum",
         "dtype": "float64",
         "stats": {
          "unique_count": 782,
          "nan_count": 0,
          "min": "0.75",
          "max": "528.75",
          "histogram": [
           {
            "bin_start": 0.75,
            "bin_end": 53.55,
            "count": 133
           },
           {
            "bin_start": 53.55,
            "bin_end": 106.35,
            "count": 435
           },
           {
            "bin_start": 106.35,
            "bin_end": 159.14999999999998,
            "count": 469
           },
           {
            "bin_start": 159.14999999999998,
            "bin_end": 211.95,
            "count": 250
           },
           {
            "bin_start": 211.95,
            "bin_end": 264.75,
            "count": 100
           },
           {
            "bin_start": 264.75,
            "bin_end": 317.54999999999995,
            "count": 40
           },
           {
            "bin_start": 317.54999999999995,
            "bin_end": 370.34999999999997,
            "count": 20
           },
           {
            "bin_start": 370.34999999999997,
            "bin_end": 423.15,
            "count": 7
           },
           {
            "bin_start": 423.15,
            "bin_end": 475.95,
            "count": 1
           },
           {
            "bin_start": 475.95,
            "bin_end": 528.75,
            "count": 2
           }
          ]
         }
        },
        {
         "name": "_deepnote_index_column",
         "dtype": "int64"
        }
       ],
       "rows": [
        {
         "date": "2016-08-29T00:00:00.000000",
         "Aged_Dark_Rum": 34.25,
         "_deepnote_index_column": 0
        },
        {
         "date": "2016-08-30T00:00:00.000000",
         "Aged_Dark_Rum": 15.5,
         "_deepnote_index_column": 1
        },
        {
         "date": "2016-08-31T00:00:00.000000",
         "Aged_Dark_Rum": 42.85,
         "_deepnote_index_column": 2
        },
        {
         "date": "2016-09-01T00:00:00.000000",
         "Aged_Dark_Rum": 99.5,
         "_deepnote_index_column": 3
        },
        {
         "date": "2016-09-02T00:00:00.000000",
         "Aged_Dark_Rum": 56.75,
         "_deepnote_index_column": 4
        },
        {
         "date": "2016-09-03T00:00:00.000000",
         "Aged_Dark_Rum": 95.25,
         "_deepnote_index_column": 5
        },
        {
         "date": "2016-09-06T00:00:00.000000",
         "Aged_Dark_Rum": 106.75,
         "_deepnote_index_column": 6
        },
        {
         "date": "2016-09-07T00:00:00.000000",
         "Aged_Dark_Rum": 130.75,
         "_deepnote_index_column": 7
        },
        {
         "date": "2016-09-08T00:00:00.000000",
         "Aged_Dark_Rum": 131.25,
         "_deepnote_index_column": 8
        },
        {
         "date": "2016-09-09T00:00:00.000000",
         "Aged_Dark_Rum": 36.5,
         "_deepnote_index_column": 9
        }
       ]
      },
      "text/plain": "           date  Aged_Dark_Rum\n0    2016-08-29          34.25\n1    2016-08-30          15.50\n2    2016-08-31          42.85\n3    2016-09-01          99.50\n4    2016-09-02          56.75\n...         ...            ...\n1452 2022-03-25          97.75\n1453 2022-03-28         124.50\n1454 2022-03-29          78.00\n1455 2022-03-30         263.50\n1456 2022-03-31          59.75\n\n[1457 rows x 2 columns]",
      "text/html": "<div>\n<style scoped>\n    .dataframe tbody tr th:only-of-type {\n        vertical-align: middle;\n    }\n\n    .dataframe tbody tr th {\n        vertical-align: top;\n    }\n\n    .dataframe thead th {\n        text-align: right;\n    }\n</style>\n<table border=\"1\" class=\"dataframe\">\n  <thead>\n    <tr style=\"text-align: right;\">\n      <th></th>\n      <th>date</th>\n      <th>Aged_Dark_Rum</th>\n    </tr>\n  </thead>\n  <tbody>\n    <tr>\n      <th>0</th>\n      <td>2016-08-29</td>\n      <td>34.25</td>\n    </tr>\n    <tr>\n      <th>1</th>\n      <td>2016-08-30</td>\n      <td>15.50</td>\n    </tr>\n    <tr>\n      <th>2</th>\n      <td>2016-08-31</td>\n      <td>42.85</td>\n    </tr>\n    <tr>\n      <th>3</th>\n      <td>2016-09-01</td>\n      <td>99.50</td>\n    </tr>\n    <tr>\n      <th>4</th>\n      <td>2016-09-02</td>\n      <td>56.75</td>\n    </tr>\n    <tr>\n      <th>...</th>\n      <td>...</td>\n      <td>...</td>\n    </tr>\n    <tr>\n      <th>1452</th>\n      <td>2022-03-25</td>\n      <td>97.75</td>\n    </tr>\n    <tr>\n      <th>1453</th>\n      <td>2022-03-28</td>\n      <td>124.50</td>\n    </tr>\n    <tr>\n      <th>1454</th>\n      <td>2022-03-29</td>\n      <td>78.00</td>\n    </tr>\n    <tr>\n      <th>1455</th>\n      <td>2022-03-30</td>\n      <td>263.50</td>\n    </tr>\n    <tr>\n      <th>1456</th>\n      <td>2022-03-31</td>\n      <td>59.75</td>\n    </tr>\n  </tbody>\n</table>\n<p>1457 rows × 2 columns</p>\n</div>"
     },
     "metadata": {}
    }
   ],
   "execution_count": 16
  },
  {
   "cell_type": "code",
   "source": "dark_rum = dark_rum.assign(year = dark_rum['date'].dt.year).drop(columns='date')",
   "metadata": {
    "cell_id": "d469bb7780b4409e972fe9200aaeca94",
    "tags": [],
    "deepnote_to_be_reexecuted": false,
    "source_hash": "7c860a13",
    "execution_start": 1651520110657,
    "execution_millis": 1,
    "deepnote_cell_type": "code",
    "deepnote_cell_height": 81
   },
   "outputs": [],
   "execution_count": 17
  },
  {
   "cell_type": "code",
   "source": "dark_rum",
   "metadata": {
    "cell_id": "24b309fe72cc498e9f605e68419a14c4",
    "tags": [],
    "deepnote_to_be_reexecuted": false,
    "source_hash": "58a777cd",
    "execution_start": 1651520110661,
    "execution_millis": 19,
    "deepnote_cell_type": "code",
    "deepnote_cell_height": 600
   },
   "outputs": [
    {
     "output_type": "execute_result",
     "execution_count": 18,
     "data": {
      "application/vnd.deepnote.dataframe.v3+json": {
       "column_count": 2,
       "row_count": 1457,
       "columns": [
        {
         "name": "Aged_Dark_Rum",
         "dtype": "float64",
         "stats": {
          "unique_count": 782,
          "nan_count": 0,
          "min": "0.75",
          "max": "528.75",
          "histogram": [
           {
            "bin_start": 0.75,
            "bin_end": 53.55,
            "count": 133
           },
           {
            "bin_start": 53.55,
            "bin_end": 106.35,
            "count": 435
           },
           {
            "bin_start": 106.35,
            "bin_end": 159.14999999999998,
            "count": 469
           },
           {
            "bin_start": 159.14999999999998,
            "bin_end": 211.95,
            "count": 250
           },
           {
            "bin_start": 211.95,
            "bin_end": 264.75,
            "count": 100
           },
           {
            "bin_start": 264.75,
            "bin_end": 317.54999999999995,
            "count": 40
           },
           {
            "bin_start": 317.54999999999995,
            "bin_end": 370.34999999999997,
            "count": 20
           },
           {
            "bin_start": 370.34999999999997,
            "bin_end": 423.15,
            "count": 7
           },
           {
            "bin_start": 423.15,
            "bin_end": 475.95,
            "count": 1
           },
           {
            "bin_start": 475.95,
            "bin_end": 528.75,
            "count": 2
           }
          ]
         }
        },
        {
         "name": "year",
         "dtype": "int64",
         "stats": {
          "unique_count": 7,
          "nan_count": 0,
          "min": "2016",
          "max": "2022",
          "histogram": [
           {
            "bin_start": 2016,
            "bin_end": 2016.6,
            "count": 88
           },
           {
            "bin_start": 2016.6,
            "bin_end": 2017.2,
            "count": 255
           },
           {
            "bin_start": 2017.2,
            "bin_end": 2017.8,
            "count": 0
           },
           {
            "bin_start": 2017.8,
            "bin_end": 2018.4,
            "count": 255
           },
           {
            "bin_start": 2018.4,
            "bin_end": 2019,
            "count": 0
           },
           {
            "bin_start": 2019,
            "bin_end": 2019.6,
            "count": 261
           },
           {
            "bin_start": 2019.6,
            "bin_end": 2020.2,
            "count": 259
           },
           {
            "bin_start": 2020.2,
            "bin_end": 2020.8,
            "count": 0
           },
           {
            "bin_start": 2020.8,
            "bin_end": 2021.4,
            "count": 270
           },
           {
            "bin_start": 2021.4,
            "bin_end": 2022,
            "count": 69
           }
          ]
         }
        },
        {
         "name": "_deepnote_index_column",
         "dtype": "int64"
        }
       ],
       "rows": [
        {
         "Aged_Dark_Rum": 34.25,
         "year": 2016,
         "_deepnote_index_column": 0
        },
        {
         "Aged_Dark_Rum": 15.5,
         "year": 2016,
         "_deepnote_index_column": 1
        },
        {
         "Aged_Dark_Rum": 42.85,
         "year": 2016,
         "_deepnote_index_column": 2
        },
        {
         "Aged_Dark_Rum": 99.5,
         "year": 2016,
         "_deepnote_index_column": 3
        },
        {
         "Aged_Dark_Rum": 56.75,
         "year": 2016,
         "_deepnote_index_column": 4
        },
        {
         "Aged_Dark_Rum": 95.25,
         "year": 2016,
         "_deepnote_index_column": 5
        },
        {
         "Aged_Dark_Rum": 106.75,
         "year": 2016,
         "_deepnote_index_column": 6
        },
        {
         "Aged_Dark_Rum": 130.75,
         "year": 2016,
         "_deepnote_index_column": 7
        },
        {
         "Aged_Dark_Rum": 131.25,
         "year": 2016,
         "_deepnote_index_column": 8
        },
        {
         "Aged_Dark_Rum": 36.5,
         "year": 2016,
         "_deepnote_index_column": 9
        }
       ]
      },
      "text/plain": "      Aged_Dark_Rum  year\n0             34.25  2016\n1             15.50  2016\n2             42.85  2016\n3             99.50  2016\n4             56.75  2016\n...             ...   ...\n1452          97.75  2022\n1453         124.50  2022\n1454          78.00  2022\n1455         263.50  2022\n1456          59.75  2022\n\n[1457 rows x 2 columns]",
      "text/html": "<div>\n<style scoped>\n    .dataframe tbody tr th:only-of-type {\n        vertical-align: middle;\n    }\n\n    .dataframe tbody tr th {\n        vertical-align: top;\n    }\n\n    .dataframe thead th {\n        text-align: right;\n    }\n</style>\n<table border=\"1\" class=\"dataframe\">\n  <thead>\n    <tr style=\"text-align: right;\">\n      <th></th>\n      <th>Aged_Dark_Rum</th>\n      <th>year</th>\n    </tr>\n  </thead>\n  <tbody>\n    <tr>\n      <th>0</th>\n      <td>34.25</td>\n      <td>2016</td>\n    </tr>\n    <tr>\n      <th>1</th>\n      <td>15.50</td>\n      <td>2016</td>\n    </tr>\n    <tr>\n      <th>2</th>\n      <td>42.85</td>\n      <td>2016</td>\n    </tr>\n    <tr>\n      <th>3</th>\n      <td>99.50</td>\n      <td>2016</td>\n    </tr>\n    <tr>\n      <th>4</th>\n      <td>56.75</td>\n      <td>2016</td>\n    </tr>\n    <tr>\n      <th>...</th>\n      <td>...</td>\n      <td>...</td>\n    </tr>\n    <tr>\n      <th>1452</th>\n      <td>97.75</td>\n      <td>2022</td>\n    </tr>\n    <tr>\n      <th>1453</th>\n      <td>124.50</td>\n      <td>2022</td>\n    </tr>\n    <tr>\n      <th>1454</th>\n      <td>78.00</td>\n      <td>2022</td>\n    </tr>\n    <tr>\n      <th>1455</th>\n      <td>263.50</td>\n      <td>2022</td>\n    </tr>\n    <tr>\n      <th>1456</th>\n      <td>59.75</td>\n      <td>2022</td>\n    </tr>\n  </tbody>\n</table>\n<p>1457 rows × 2 columns</p>\n</div>"
     },
     "metadata": {}
    }
   ],
   "execution_count": 18
  },
  {
   "cell_type": "code",
   "source": "dark_rum.columns = dark_rum.columns.str.replace('Dark_Rum', 'Dark_Rum_by_Liter')",
   "metadata": {
    "cell_id": "5798383872314772aee225fdc04e4a71",
    "tags": [],
    "deepnote_to_be_reexecuted": false,
    "source_hash": "1517883d",
    "execution_start": 1651520110737,
    "execution_millis": 487376,
    "deepnote_cell_type": "code",
    "deepnote_cell_height": 81
   },
   "outputs": [],
   "execution_count": 19
  },
  {
   "cell_type": "code",
   "source": "dark_rum.columns = dark_rum.columns.str.replace(' ', '')",
   "metadata": {
    "cell_id": "7d62247fe8cb43dc9c62690832219481",
    "tags": [],
    "deepnote_to_be_reexecuted": false,
    "source_hash": "337087c1",
    "execution_start": 1651520110738,
    "execution_millis": 0,
    "deepnote_cell_type": "code",
    "deepnote_cell_height": 81
   },
   "outputs": [],
   "execution_count": 20
  },
  {
   "cell_type": "code",
   "source": "dark_rum = dark_rum.groupby(dark_rum.year).sum()",
   "metadata": {
    "cell_id": "da0efb2f7ca64edc9cf64913702eb97b",
    "tags": [],
    "deepnote_to_be_reexecuted": false,
    "source_hash": "780a2f90",
    "execution_start": 1651520125551,
    "execution_millis": 6,
    "deepnote_cell_type": "code",
    "deepnote_cell_height": 81
   },
   "outputs": [],
   "execution_count": 22
  },
  {
   "cell_type": "code",
   "source": "dark_rum",
   "metadata": {
    "cell_id": "93467c90888c4729a634a5cb91b035be",
    "tags": [],
    "deepnote_to_be_reexecuted": false,
    "source_hash": "58a777cd",
    "execution_start": 1651520128194,
    "execution_millis": 4,
    "deepnote_cell_type": "code",
    "deepnote_cell_height": 477
   },
   "outputs": [
    {
     "output_type": "execute_result",
     "execution_count": 23,
     "data": {
      "application/vnd.deepnote.dataframe.v3+json": {
       "column_count": 1,
       "row_count": 7,
       "columns": [
        {
         "name": "Aged_Dark_Rum_by_Liter",
         "dtype": "float64",
         "stats": {
          "unique_count": 7,
          "nan_count": 0,
          "min": "9120.75",
          "max": "42201.2",
          "histogram": [
           {
            "bin_start": 9120.75,
            "bin_end": 12428.795,
            "count": 2
           },
           {
            "bin_start": 12428.795,
            "bin_end": 15736.84,
            "count": 0
           },
           {
            "bin_start": 15736.84,
            "bin_end": 19044.885,
            "count": 0
           },
           {
            "bin_start": 19044.885,
            "bin_end": 22352.93,
            "count": 0
           },
           {
            "bin_start": 22352.93,
            "bin_end": 25660.975,
            "count": 0
           },
           {
            "bin_start": 25660.975,
            "bin_end": 28969.019999999997,
            "count": 1
           },
           {
            "bin_start": 28969.019999999997,
            "bin_end": 32277.065,
            "count": 1
           },
           {
            "bin_start": 32277.065,
            "bin_end": 35585.11,
            "count": 1
           },
           {
            "bin_start": 35585.11,
            "bin_end": 38893.155,
            "count": 1
           },
           {
            "bin_start": 38893.155,
            "bin_end": 42201.2,
            "count": 1
           }
          ]
         }
        },
        {
         "name": "_deepnote_index_column",
         "dtype": "int64"
        }
       ],
       "rows": [
        {
         "Aged_Dark_Rum_by_Liter": 9803.35,
         "_deepnote_index_column": 2016
        },
        {
         "Aged_Dark_Rum_by_Liter": 28718.75,
         "_deepnote_index_column": 2017
        },
        {
         "Aged_Dark_Rum_by_Liter": 35611.049999999974,
         "_deepnote_index_column": 2018
        },
        {
         "Aged_Dark_Rum_by_Liter": 31512.75,
         "_deepnote_index_column": 2019
        },
        {
         "Aged_Dark_Rum_by_Liter": 35335.5,
         "_deepnote_index_column": 2020
        },
        {
         "Aged_Dark_Rum_by_Liter": 42201.2,
         "_deepnote_index_column": 2021
        },
        {
         "Aged_Dark_Rum_by_Liter": 9120.75,
         "_deepnote_index_column": 2022
        }
       ]
      },
      "text/plain": "      Aged_Dark_Rum_by_Liter\nyear                        \n2016                 9803.35\n2017                28718.75\n2018                35611.05\n2019                31512.75\n2020                35335.50\n2021                42201.20\n2022                 9120.75",
      "text/html": "<div>\n<style scoped>\n    .dataframe tbody tr th:only-of-type {\n        vertical-align: middle;\n    }\n\n    .dataframe tbody tr th {\n        vertical-align: top;\n    }\n\n    .dataframe thead th {\n        text-align: right;\n    }\n</style>\n<table border=\"1\" class=\"dataframe\">\n  <thead>\n    <tr style=\"text-align: right;\">\n      <th></th>\n      <th>Aged_Dark_Rum_by_Liter</th>\n    </tr>\n    <tr>\n      <th>year</th>\n      <th></th>\n    </tr>\n  </thead>\n  <tbody>\n    <tr>\n      <th>2016</th>\n      <td>9803.35</td>\n    </tr>\n    <tr>\n      <th>2017</th>\n      <td>28718.75</td>\n    </tr>\n    <tr>\n      <th>2018</th>\n      <td>35611.05</td>\n    </tr>\n    <tr>\n      <th>2019</th>\n      <td>31512.75</td>\n    </tr>\n    <tr>\n      <th>2020</th>\n      <td>35335.50</td>\n    </tr>\n    <tr>\n      <th>2021</th>\n      <td>42201.20</td>\n    </tr>\n    <tr>\n      <th>2022</th>\n      <td>9120.75</td>\n    </tr>\n  </tbody>\n</table>\n</div>"
     },
     "metadata": {}
    }
   ],
   "execution_count": 23
  },
  {
   "cell_type": "code",
   "source": "gold_and_dark_rum = pd.merge(gold_rum, dark_rum, left_index=True, right_index=True)",
   "metadata": {
    "cell_id": "6bb4e50f22994ecbb33c561c9fe2a926",
    "tags": [],
    "deepnote_to_be_reexecuted": false,
    "source_hash": "62e922f",
    "execution_start": 1651520269306,
    "execution_millis": 1,
    "deepnote_cell_type": "code",
    "deepnote_cell_height": 81
   },
   "outputs": [],
   "execution_count": 25
  },
  {
   "cell_type": "code",
   "source": "gold_and_dark_rum",
   "metadata": {
    "cell_id": "f644434267174b98a1a08e91c78abd13",
    "tags": [],
    "deepnote_to_be_reexecuted": false,
    "source_hash": "35c7596d",
    "execution_start": 1651520278516,
    "execution_millis": 16,
    "deepnote_cell_type": "code",
    "deepnote_cell_height": 477
   },
   "outputs": [
    {
     "output_type": "execute_result",
     "execution_count": 26,
     "data": {
      "application/vnd.deepnote.dataframe.v3+json": {
       "column_count": 2,
       "row_count": 7,
       "columns": [
        {
         "name": "Gold_Rum_by_Liter",
         "dtype": "float64",
         "stats": {
          "unique_count": 7,
          "nan_count": 0,
          "min": "20404.25",
          "max": "115316.60000000005",
          "histogram": [
           {
            "bin_start": 20404.25,
            "bin_end": 29895.485000000004,
            "count": 1
           },
           {
            "bin_start": 29895.485000000004,
            "bin_end": 39386.72000000001,
            "count": 0
           },
           {
            "bin_start": 39386.72000000001,
            "bin_end": 48877.955000000016,
            "count": 1
           },
           {
            "bin_start": 48877.955000000016,
            "bin_end": 58369.19000000002,
            "count": 0
           },
           {
            "bin_start": 58369.19000000002,
            "bin_end": 67860.42500000002,
            "count": 0
           },
           {
            "bin_start": 67860.42500000002,
            "bin_end": 77351.66000000003,
            "count": 0
           },
           {
            "bin_start": 77351.66000000003,
            "bin_end": 86842.89500000003,
            "count": 0
           },
           {
            "bin_start": 86842.89500000003,
            "bin_end": 96334.13000000003,
            "count": 0
           },
           {
            "bin_start": 96334.13000000003,
            "bin_end": 105825.36500000003,
            "count": 1
           },
           {
            "bin_start": 105825.36500000003,
            "bin_end": 115316.60000000005,
            "count": 4
           }
          ]
         }
        },
        {
         "name": "Aged_Dark_Rum_by_Liter",
         "dtype": "float64",
         "stats": {
          "unique_count": 7,
          "nan_count": 0,
          "min": "9120.75",
          "max": "42201.2",
          "histogram": [
           {
            "bin_start": 9120.75,
            "bin_end": 12428.795,
            "count": 2
           },
           {
            "bin_start": 12428.795,
            "bin_end": 15736.84,
            "count": 0
           },
           {
            "bin_start": 15736.84,
            "bin_end": 19044.885,
            "count": 0
           },
           {
            "bin_start": 19044.885,
            "bin_end": 22352.93,
            "count": 0
           },
           {
            "bin_start": 22352.93,
            "bin_end": 25660.975,
            "count": 0
           },
           {
            "bin_start": 25660.975,
            "bin_end": 28969.019999999997,
            "count": 1
           },
           {
            "bin_start": 28969.019999999997,
            "bin_end": 32277.065,
            "count": 1
           },
           {
            "bin_start": 32277.065,
            "bin_end": 35585.11,
            "count": 1
           },
           {
            "bin_start": 35585.11,
            "bin_end": 38893.155,
            "count": 1
           },
           {
            "bin_start": 38893.155,
            "bin_end": 42201.2,
            "count": 1
           }
          ]
         }
        },
        {
         "name": "_deepnote_index_column",
         "dtype": "int64"
        }
       ],
       "rows": [
        {
         "Gold_Rum_by_Liter": 45043.51999999999,
         "Aged_Dark_Rum_by_Liter": 9803.35,
         "_deepnote_index_column": 2016
        },
        {
         "Gold_Rum_by_Liter": 115316.60000000005,
         "Aged_Dark_Rum_by_Liter": 28718.75,
         "_deepnote_index_column": 2017
        },
        {
         "Gold_Rum_by_Liter": 109159.16999999998,
         "Aged_Dark_Rum_by_Liter": 35611.049999999974,
         "_deepnote_index_column": 2018
        },
        {
         "Gold_Rum_by_Liter": 107731.52000000016,
         "Aged_Dark_Rum_by_Liter": 31512.75,
         "_deepnote_index_column": 2019
        },
        {
         "Gold_Rum_by_Liter": 112782.86999999997,
         "Aged_Dark_Rum_by_Liter": 35335.5,
         "_deepnote_index_column": 2020
        },
        {
         "Gold_Rum_by_Liter": 100701.62000000004,
         "Aged_Dark_Rum_by_Liter": 42201.2,
         "_deepnote_index_column": 2021
        },
        {
         "Gold_Rum_by_Liter": 20404.25,
         "Aged_Dark_Rum_by_Liter": 9120.75,
         "_deepnote_index_column": 2022
        }
       ]
      },
      "text/plain": "      Gold_Rum_by_Liter  Aged_Dark_Rum_by_Liter\nyear                                           \n2016           45043.52                 9803.35\n2017          115316.60                28718.75\n2018          109159.17                35611.05\n2019          107731.52                31512.75\n2020          112782.87                35335.50\n2021          100701.62                42201.20\n2022           20404.25                 9120.75",
      "text/html": "<div>\n<style scoped>\n    .dataframe tbody tr th:only-of-type {\n        vertical-align: middle;\n    }\n\n    .dataframe tbody tr th {\n        vertical-align: top;\n    }\n\n    .dataframe thead th {\n        text-align: right;\n    }\n</style>\n<table border=\"1\" class=\"dataframe\">\n  <thead>\n    <tr style=\"text-align: right;\">\n      <th></th>\n      <th>Gold_Rum_by_Liter</th>\n      <th>Aged_Dark_Rum_by_Liter</th>\n    </tr>\n    <tr>\n      <th>year</th>\n      <th></th>\n      <th></th>\n    </tr>\n  </thead>\n  <tbody>\n    <tr>\n      <th>2016</th>\n      <td>45043.52</td>\n      <td>9803.35</td>\n    </tr>\n    <tr>\n      <th>2017</th>\n      <td>115316.60</td>\n      <td>28718.75</td>\n    </tr>\n    <tr>\n      <th>2018</th>\n      <td>109159.17</td>\n      <td>35611.05</td>\n    </tr>\n    <tr>\n      <th>2019</th>\n      <td>107731.52</td>\n      <td>31512.75</td>\n    </tr>\n    <tr>\n      <th>2020</th>\n      <td>112782.87</td>\n      <td>35335.50</td>\n    </tr>\n    <tr>\n      <th>2021</th>\n      <td>100701.62</td>\n      <td>42201.20</td>\n    </tr>\n    <tr>\n      <th>2022</th>\n      <td>20404.25</td>\n      <td>9120.75</td>\n    </tr>\n  </tbody>\n</table>\n</div>"
     },
     "metadata": {}
    }
   ],
   "execution_count": 26
  },
  {
   "cell_type": "code",
   "source": "gold_and_dark_rum['Gold_Rum_by_Liter'].plot(figsize = (10,5), marker = 'o', color = 'r')",
   "metadata": {
    "cell_id": "6df686273bdf449f95d77cd6428c4353",
    "tags": [],
    "deepnote_to_be_reexecuted": false,
    "source_hash": "301eda36",
    "execution_start": 1651520347609,
    "execution_millis": 202,
    "deepnote_cell_type": "code",
    "deepnote_cell_height": 472.1875,
    "deepnote_output_heights": [
     21.1875,
     323
    ]
   },
   "outputs": [
    {
     "output_type": "execute_result",
     "execution_count": 28,
     "data": {
      "text/plain": "<AxesSubplot:xlabel='year'>"
     },
     "metadata": {}
    },
    {
     "data": {
      "text/plain": "<Figure size 720x360 with 1 Axes>",
      "image/png": "[encoded data removed]"
     },
     "metadata": {
      "needs_background": "light",
      "image/png": {
       "width": 617,
       "height": 321
      }
     },
     "output_type": "display_data"
    }
   ],
   "execution_count": 28
  },
  {
   "cell_type": "code",
   "source": "gold_and_dark_rum['Aged_Dark_Rum_by_Liter'].plot(figsize = (10,5), marker = 'o', color = 'b');",
   "metadata": {
    "cell_id": "aedb46ac30b44839b4ec50575e2ae97d",
    "tags": [],
    "deepnote_to_be_reexecuted": false,
    "source_hash": "3891aaf9",
    "execution_start": 1651520437746,
    "execution_millis": 180,
    "deepnote_cell_type": "code",
    "deepnote_cell_height": 416,
    "deepnote_output_heights": [
     319
    ]
   },
   "outputs": [
    {
     "data": {
      "text/plain": "<Figure size 720x360 with 1 Axes>",
      "image/png": "[encoded data removed]"
     },
     "metadata": {
      "needs_background": "light",
      "image/png": {
       "width": 610,
       "height": 317
      }
     },
     "output_type": "display_data"
    }
   ],
   "execution_count": 29
  },
  {
   "cell_type": "code",
   "source": "from plotly.subplots import make_subplots # imports # imports plotly\nimport plotly.graph_objects as go # imports plotly graph objects as go\n\nfig = make_subplots(rows=3, cols=1) # makes sublots that stack underneath each other\n\nfig.append_trace(go.Scatter( # makes first plot - it is a line graph\n    x=gold_and_dark_rum.index,\n    y=gold_and_dark_rum['Gold_Rum_by_Liter'],\n    name=\"Gold Rum\"\n), row=1, col=1)\n\nfig.append_trace(go.Scatter( # makes second plot - it is a line graph\n    x=gold_and_dark_rum.index,\n    y=gold_and_dark_rum['Aged_Dark_Rum_by_Liter'],\n    name=\"Dark_Rum\"\n), row=2, col=1)\n\nfig.append_trace(go.Bar(\n    x=['Gold_Rum_by_Liter', 'Aged_Dark_Rum_by_Liter'],\n    y=[gold_and_dark_rum['Gold_Rum_by_Liter'].sum(),gold_and_dark_rum['Aged_Dark_Rum_by_Liter'].sum()],\n    marker=dict(color=['royalblue','gold']),\n    showlegend=False,\n    name = 'Totals'\n), row=3, col=1)\n\nfig.update_layout(height=1200, width=1200, title_text=\"Gold Rum Vs Dark Rum\")\nfig.show()",
   "metadata": {
    "cell_id": "9138de5353a348f08ffd4bd575562b9e",
    "tags": [],
    "deepnote_to_be_reexecuted": false,
    "source_hash": "54a8b652",
    "execution_start": 1651520676925,
    "execution_millis": 328,
    "deepnote_cell_type": "code",
    "deepnote_cell_height": 1171.1875,
    "deepnote_output_heights": [
     606.1875
    ]
   },
   "outputs": [
    {
     "data": {
      "text/html": "<html>\n<head><meta charset=\"utf-8\" /></head>\n<body>\n    <div>            <script src=\"https://cdnjs.cloudflare.com/ajax/libs/mathjax/2.7.5/MathJax.js?config=TeX-AMS-MML_SVG\"></script><script type=\"text/javascript\">if (window.MathJax) {MathJax.Hub.Config({SVG: {font: \"STIX-Web\"}});}</script>                <script type=\"text/javascript\">window.PlotlyConfig = {MathJaxConfig: 'local'};</script>\n        <script src=\"https://cdn.plot.ly/plotly-2.11.1.min.js\"></script>                <div id=\"cd08c1c0-c4af-4557-be90-8b95b66cafe5\" class=\"plotly-graph-div\" style=\"height:1200px; width:1200px;\"></div>            <script type=\"text/javascript\">                                    window.PLOTLYENV=window.PLOTLYENV || {};                                    if (document.getElementById(\"cd08c1c0-c4af-4557-be90-8b95b66cafe5\")) {                    Plotly.newPlot(                        \"cd08c1c0-c4af-4557-be90-8b95b66cafe5\",                        [{\"name\":\"Gold Rum\",\"x\":[2016,2017,2018,2019,2020,2021,2022],\"y\":[45043.51999999999,115316.60000000005,109159.16999999998,107731.52000000016,112782.86999999997,100701.62000000004,20404.25],\"type\":\"scatter\",\"xaxis\":\"x\",\"yaxis\":\"y\"},{\"name\":\"Dark_Rum\",\"x\":[2016,2017,2018,2019,2020,2021,2022],\"y\":[9803.35,28718.75,35611.049999999974,31512.75,35335.5,42201.2,9120.75],\"type\":\"scatter\",\"xaxis\":\"x2\",\"yaxis\":\"y2\"},{\"marker\":{\"color\":[\"royalblue\",\"gold\"]},\"name\":\"Totals\",\"showlegend\":false,\"x\":[\"Gold_Rum_by_Liter\",\"Aged_Dark_Rum_by_Liter\"],\"y\":[611139.5500000002,192303.34999999998],\"type\":\"bar\",\"xaxis\":\"x3\",\"yaxis\":\"y3\"}],                        {\"template\":{\"data\":{\"histogram2dcontour\":[{\"type\":\"histogram2dcontour\",\"colorbar\":{\"outlinewidth\":0,\"ticks\":\"\"},\"colorscale\":[[0.0,\"#0d0887\"],[0.1111111111111111,\"#46039f\"],[0.2222222222222222,\"#7201a8\"],[0.3333333333333333,\"#9c179e\"],[0.4444444444444444,\"#bd3786\"],[0.5555555555555556,\"#d8576b\"],[0.6666666666666666,\"#ed7953\"],[0.7777777777777778,\"#fb9f3a\"],[0.8888888888888888,\"#fdca26\"],[1.0,\"#f0f921\"]]}],\"choropleth\":[{\"type\":\"choropleth\",\"colorbar\":{\"outlinewidth\":0,\"ticks\":\"\"}}],\"histogram2d\":[{\"type\":\"histogram2d\",\"colorbar\":{\"outlinewidth\":0,\"ticks\":\"\"},\"colorscale\":[[0.0,\"#0d0887\"],[0.1111111111111111,\"#46039f\"],[0.2222222222222222,\"#7201a8\"],[0.3333333333333333,\"#9c179e\"],[0.4444444444444444,\"#bd3786\"],[0.5555555555555556,\"#d8576b\"],[0.6666666666666666,\"#ed7953\"],[0.7777777777777778,\"#fb9f3a\"],[0.8888888888888888,\"#fdca26\"],[1.0,\"#f0f921\"]]}],\"heatmap\":[{\"type\":\"heatmap\",\"colorbar\":{\"outlinewidth\":0,\"ticks\":\"\"},\"colorscale\":[[0.0,\"#0d0887\"],[0.1111111111111111,\"#46039f\"],[0.2222222222222222,\"#7201a8\"],[0.3333333333333333,\"#9c179e\"],[0.4444444444444444,\"#bd3786\"],[0.5555555555555556,\"#d8576b\"],[0.6666666666666666,\"#ed7953\"],[0.7777777777777778,\"#fb9f3a\"],[0.8888888888888888,\"#fdca26\"],[1.0,\"#f0f921\"]]}],\"heatmapgl\":[{\"type\":\"heatmapgl\",\"colorbar\":{\"outlinewidth\":0,\"ticks\":\"\"},\"colorscale\":[[0.0,\"#0d0887\"],[0.1111111111111111,\"#46039f\"],[0.2222222222222222,\"#7201a8\"],[0.3333333333333333,\"#9c179e\"],[0.4444444444444444,\"#bd3786\"],[0.5555555555555556,\"#d8576b\"],[0.6666666666666666,\"#ed7953\"],[0.7777777777777778,\"#fb9f3a\"],[0.8888888888888888,\"#fdca26\"],[1.0,\"#f0f921\"]]}],\"contourcarpet\":[{\"type\":\"contourcarpet\",\"colorbar\":{\"outlinewidth\":0,\"ticks\":\"\"}}],\"contour\":[{\"type\":\"contour\",\"colorbar\":{\"outlinewidth\":0,\"ticks\":\"\"},\"colorscale\":[[0.0,\"#0d0887\"],[0.1111111111111111,\"#46039f\"],[0.2222222222222222,\"#7201a8\"],[0.3333333333333333,\"#9c179e\"],[0.4444444444444444,\"#bd3786\"],[0.5555555555555556,\"#d8576b\"],[0.6666666666666666,\"#ed7953\"],[0.7777777777777778,\"#fb9f3a\"],[0.8888888888888888,\"#fdca26\"],[1.0,\"#f0f921\"]]}],\"surface\":[{\"type\":\"surface\",\"colorbar\":{\"outlinewidth\":0,\"ticks\":\"\"},\"colorscale\":[[0.0,\"#0d0887\"],[0.1111111111111111,\"#46039f\"],[0.2222222222222222,\"#7201a8\"],[0.3333333333333333,\"#9c179e\"],[0.4444444444444444,\"#bd3786\"],[0.5555555555555556,\"#d8576b\"],[0.6666666666666666,\"#ed7953\"],[0.7777777777777778,\"#fb9f3a\"],[0.8888888888888888,\"#fdca26\"],[1.0,\"#f0f921\"]]}],\"mesh3d\":[{\"type\":\"mesh3d\",\"colorbar\":{\"outlinewidth\":0,\"ticks\":\"\"}}],\"scatter\":[{\"fillpattern\":{\"fillmode\":\"overlay\",\"size\":10,\"solidity\":0.2},\"type\":\"scatter\"}],\"parcoords\":[{\"type\":\"parcoords\",\"line\":{\"colorbar\":{\"outlinewidth\":0,\"ticks\":\"\"}}}],\"scatterpolargl\":[{\"type\":\"scatterpolargl\",\"marker\":{\"colorbar\":{\"outlinewidth\":0,\"ticks\":\"\"}}}],\"bar\":[{\"error_x\":{\"color\":\"#2a3f5f\"},\"error_y\":{\"color\":\"#2a3f5f\"},\"marker\":{\"line\":{\"color\":\"#E5ECF6\",\"width\":0.5},\"pattern\":{\"fillmode\":\"overlay\",\"size\":10,\"solidity\":0.2}},\"type\":\"bar\"}],\"scattergeo\":[{\"type\":\"scattergeo\",\"marker\":{\"colorbar\":{\"outlinewidth\":0,\"ticks\":\"\"}}}],\"scatterpolar\":[{\"type\":\"scatterpolar\",\"marker\":{\"colorbar\":{\"outlinewidth\":0,\"ticks\":\"\"}}}],\"histogram\":[{\"marker\":{\"pattern\":{\"fillmode\":\"overlay\",\"size\":10,\"solidity\":0.2}},\"type\":\"histogram\"}],\"scattergl\":[{\"type\":\"scattergl\",\"marker\":{\"colorbar\":{\"outlinewidth\":0,\"ticks\":\"\"}}}],\"scatter3d\":[{\"type\":\"scatter3d\",\"line\":{\"colorbar\":{\"outlinewidth\":0,\"ticks\":\"\"}},\"marker\":{\"colorbar\":{\"outlinewidth\":0,\"ticks\":\"\"}}}],\"scattermapbox\":[{\"type\":\"scattermapbox\",\"marker\":{\"colorbar\":{\"outlinewidth\":0,\"ticks\":\"\"}}}],\"scatterternary\":[{\"type\":\"scatterternary\",\"marker\":{\"colorbar\":{\"outlinewidth\":0,\"ticks\":\"\"}}}],\"scattercarpet\":[{\"type\":\"scattercarpet\",\"marker\":{\"colorbar\":{\"outlinewidth\":0,\"ticks\":\"\"}}}],\"carpet\":[{\"aaxis\":{\"endlinecolor\":\"#2a3f5f\",\"gridcolor\":\"white\",\"linecolor\":\"white\",\"minorgridcolor\":\"white\",\"startlinecolor\":\"#2a3f5f\"},\"baxis\":{\"endlinecolor\":\"#2a3f5f\",\"gridcolor\":\"white\",\"linecolor\":\"white\",\"minorgridcolor\":\"white\",\"startlinecolor\":\"#2a3f5f\"},\"type\":\"carpet\"}],\"table\":[{\"cells\":{\"fill\":{\"color\":\"#EBF0F8\"},\"line\":{\"color\":\"white\"}},\"header\":{\"fill\":{\"color\":\"#C8D4E3\"},\"line\":{\"color\":\"white\"}},\"type\":\"table\"}],\"barpolar\":[{\"marker\":{\"line\":{\"color\":\"#E5ECF6\",\"width\":0.5},\"pattern\":{\"fillmode\":\"overlay\",\"size\":10,\"solidity\":0.2}},\"type\":\"barpolar\"}],\"pie\":[{\"automargin\":true,\"type\":\"pie\"}]},\"layout\":{\"autotypenumbers\":\"strict\",\"colorway\":[\"#636efa\",\"#EF553B\",\"#00cc96\",\"#ab63fa\",\"#FFA15A\",\"#19d3f3\",\"#FF6692\",\"#B6E880\",\"#FF97FF\",\"#FECB52\"],\"font\":{\"color\":\"#2a3f5f\"},\"hovermode\":\"closest\",\"hoverlabel\":{\"align\":\"left\"},\"paper_bgcolor\":\"white\",\"plot_bgcolor\":\"#E5ECF6\",\"polar\":{\"bgcolor\":\"#E5ECF6\",\"angularaxis\":{\"gridcolor\":\"white\",\"linecolor\":\"white\",\"ticks\":\"\"},\"radialaxis\":{\"gridcolor\":\"white\",\"linecolor\":\"white\",\"ticks\":\"\"}},\"ternary\":{\"bgcolor\":\"#E5ECF6\",\"aaxis\":{\"gridcolor\":\"white\",\"linecolor\":\"white\",\"ticks\":\"\"},\"baxis\":{\"gridcolor\":\"white\",\"linecolor\":\"white\",\"ticks\":\"\"},\"caxis\":{\"gridcolor\":\"white\",\"linecolor\":\"white\",\"ticks\":\"\"}},\"coloraxis\":{\"colorbar\":{\"outlinewidth\":0,\"ticks\":\"\"}},\"colorscale\":{\"sequential\":[[0.0,\"#0d0887\"],[0.1111111111111111,\"#46039f\"],[0.2222222222222222,\"#7201a8\"],[0.3333333333333333,\"#9c179e\"],[0.4444444444444444,\"#bd3786\"],[0.5555555555555556,\"#d8576b\"],[0.6666666666666666,\"#ed7953\"],[0.7777777777777778,\"#fb9f3a\"],[0.8888888888888888,\"#fdca26\"],[1.0,\"#f0f921\"]],\"sequentialminus\":[[0.0,\"#0d0887\"],[0.1111111111111111,\"#46039f\"],[0.2222222222222222,\"#7201a8\"],[0.3333333333333333,\"#9c179e\"],[0.4444444444444444,\"#bd3786\"],[0.5555555555555556,\"#d8576b\"],[0.6666666666666666,\"#ed7953\"],[0.7777777777777778,\"#fb9f3a\"],[0.8888888888888888,\"#fdca26\"],[1.0,\"#f0f921\"]],\"diverging\":[[0,\"#8e0152\"],[0.1,\"#c51b7d\"],[0.2,\"#de77ae\"],[0.3,\"#f1b6da\"],[0.4,\"#fde0ef\"],[0.5,\"#f7f7f7\"],[0.6,\"#e6f5d0\"],[0.7,\"#b8e186\"],[0.8,\"#7fbc41\"],[0.9,\"#4d9221\"],[1,\"#276419\"]]},\"xaxis\":{\"gridcolor\":\"white\",\"linecolor\":\"white\",\"ticks\":\"\",\"title\":{\"standoff\":15},\"zerolinecolor\":\"white\",\"automargin\":true,\"zerolinewidth\":2},\"yaxis\":{\"gridcolor\":\"white\",\"linecolor\":\"white\",\"ticks\":\"\",\"title\":{\"standoff\":15},\"zerolinecolor\":\"white\",\"automargin\":true,\"zerolinewidth\":2},\"scene\":{\"xaxis\":{\"backgroundcolor\":\"#E5ECF6\",\"gridcolor\":\"white\",\"linecolor\":\"white\",\"showbackground\":true,\"ticks\":\"\",\"zerolinecolor\":\"white\",\"gridwidth\":2},\"yaxis\":{\"backgroundcolor\":\"#E5ECF6\",\"gridcolor\":\"white\",\"linecolor\":\"white\",\"showbackground\":true,\"ticks\":\"\",\"zerolinecolor\":\"white\",\"gridwidth\":2},\"zaxis\":{\"backgroundcolor\":\"#E5ECF6\",\"gridcolor\":\"white\",\"linecolor\":\"white\",\"showbackground\":true,\"ticks\":\"\",\"zerolinecolor\":\"white\",\"gridwidth\":2}},\"shapedefaults\":{\"line\":{\"color\":\"#2a3f5f\"}},\"annotationdefaults\":{\"arrowcolor\":\"#2a3f5f\",\"arrowhead\":0,\"arrowwidth\":1},\"geo\":{\"bgcolor\":\"white\",\"landcolor\":\"#E5ECF6\",\"subunitcolor\":\"white\",\"showland\":true,\"showlakes\":true,\"lakecolor\":\"white\"},\"title\":{\"x\":0.05},\"mapbox\":{\"style\":\"light\"}}},\"xaxis\":{\"anchor\":\"y\",\"domain\":[0.0,1.0]},\"yaxis\":{\"anchor\":\"x\",\"domain\":[0.7333333333333333,1.0]},\"xaxis2\":{\"anchor\":\"y2\",\"domain\":[0.0,1.0]},\"yaxis2\":{\"anchor\":\"x2\",\"domain\":[0.36666666666666664,0.6333333333333333]},\"xaxis3\":{\"anchor\":\"y3\",\"domain\":[0.0,1.0]},\"yaxis3\":{\"anchor\":\"x3\",\"domain\":[0.0,0.26666666666666666]},\"title\":{\"text\":\"Gold Rum Vs Dark Rum\"},\"height\":1200,\"width\":1200},                        {\"responsive\": true}                    ).then(function(){\n                            \nvar gd = document.getElementById('cd08c1c0-c4af-4557-be90-8b95b66cafe5');\nvar x = new MutationObserver(function (mutations, observer) {{\n        var display = window.getComputedStyle(gd).display;\n        if (!display || display === 'none') {{\n            console.log([gd, 'removed!']);\n            Plotly.purge(gd);\n            observer.disconnect();\n        }}\n}});\n\n// Listen for the removal of the full notebook cells\nvar notebookContainer = gd.closest('#notebook-container');\nif (notebookContainer) {{\n    x.observe(notebookContainer, {childList: true});\n}}\n\n// Listen for the clearing of the current output cell\nvar outputEl = gd.closest('.output');\nif (outputEl) {{\n    x.observe(outputEl, {childList: true});\n}}\n\n                        })                };                            </script>        </div>\n</body>\n</html>"
     },
     "metadata": {},
     "output_type": "display_data"
    }
   ],
   "execution_count": 30
  },
  {
   "cell_type": "code",
   "source": "fig.write_html(\"index.html\")",
   "metadata": {
    "cell_id": "98a99a0b5d874782987e7a62dcd13224",
    "tags": [],
    "owner_user_id": "78ada1d8-81d9-49c3-9dce-bb8720f28287",
    "deepnote_to_be_reexecuted": false,
    "source_hash": "895515aa",
    "execution_start": 1651520704015,
    "execution_millis": 28,
    "deepnote_cell_type": "code",
    "deepnote_cell_height": 66
   },
   "outputs": [],
   "execution_count": 31
  },
  {
   "cell_type": "markdown",
   "source": "<a style='text-decoration:none;line-height:16px;display:flex;color:#5B5B62;padding:10px;justify-content:end;' href='https://deepnote.com?utm_source=created-in-deepnote-cell&projectId=565854d8-8407-4951-a97d-d5536b425056' target=\"_blank\">\n<img alt='Created in deepnote.com' style='display:inline;max-height:16px;margin:0px;margin-right:7.5px;' src='data:image/svg+xml;base64,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' > </img>\nCreated in <span style='font-weight:600;margin-left:4px;'>Deepnote</span></a>",
   "metadata": {
    "tags": [],
    "created_in_deepnote_cell": true,
    "deepnote_cell_type": "markdown"
   }
  }
 ],
 "nbformat": 4,
 "nbformat_minor": 2,
 "metadata": {
  "orig_nbformat": 2,
  "deepnote": {},
  "deepnote_notebook_id": "1004597b-5045-4b84-86c4-ed043225bec3",
  "deepnote_execution_queue": []
 }
}